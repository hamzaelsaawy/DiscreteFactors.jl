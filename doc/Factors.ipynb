{
 "cells": [
  {
   "cell_type": "markdown",
   "metadata": {},
   "source": [
    "# Factors.jl\n",
    "A package for factors/potentials with parametric supports"
   ]
  },
  {
   "cell_type": "code",
   "execution_count": 1,
   "metadata": {
    "collapsed": false
   },
   "outputs": [],
   "source": [
    "using Factors"
   ]
  },
  {
   "cell_type": "markdown",
   "metadata": {},
   "source": [
    "## Dimensions"
   ]
  },
  {
   "cell_type": "markdown",
   "metadata": {},
   "source": [
    "The base type is a dimension, which contains a name and a countably-finite support.\n",
    "\n",
    "The first major distinction is between cardinal  and ordinal dimensions: the former does not support a notion of order.\n",
    "\n",
    "There are multiple types of ordinal dimensions:\n",
    "* `OrdinalDimension`\n",
    "* `StepDimension`\n",
    "* `UnitDimension`\n",
    "* `CartesianDimension`\n",
    "\n",
    "The latter 3 corresponds to the following `Base.Range` types:\n",
    "* `StepRange`\n",
    "* `UnitRange`\n",
    "* `OneTo`"
   ]
  },
  {
   "cell_type": "code",
   "execution_count": 2,
   "metadata": {
    "collapsed": false
   },
   "outputs": [
    {
     "data": {
      "text/html": [
       "C:\n",
       "  String[\"bob\",\"waldo\",\"superman\"] (3)"
      ],
      "text/plain": [
       "C:\n",
       "  String[\"bob\",\"waldo\",\"superman\"] (3)"
      ]
     },
     "execution_count": 2,
     "metadata": {},
     "output_type": "execute_result"
    }
   ],
   "source": [
    "c = CardinalDimension(:C, [\"bob\", \"waldo\", \"superman\"])"
   ]
  },
  {
   "cell_type": "code",
   "execution_count": 3,
   "metadata": {
    "collapsed": false
   },
   "outputs": [
    {
     "data": {
      "text/html": [
       "O:\n",
       "  Symbol[:X,:Y,:Z] (3)"
      ],
      "text/plain": [
       "O:\n",
       "  Symbol[:X,:Y,:Z] (3)"
      ]
     },
     "execution_count": 3,
     "metadata": {},
     "output_type": "execute_result"
    }
   ],
   "source": [
    "o = OrdinalDimension(:O, [:X, :Y, :Z])"
   ]
  },
  {
   "cell_type": "code",
   "execution_count": 4,
   "metadata": {
    "collapsed": false
   },
   "outputs": [
    {
     "data": {
      "text/html": [
       "S:\n",
       "  a:2:y"
      ],
      "text/plain": [
       "S:\n",
       "  a:2:y"
      ]
     },
     "execution_count": 4,
     "metadata": {},
     "output_type": "execute_result"
    }
   ],
   "source": [
    "s = StepDimension(:S, 'a', 2, 'z')"
   ]
  },
  {
   "cell_type": "code",
   "execution_count": 5,
   "metadata": {
    "collapsed": false
   },
   "outputs": [
    {
     "data": {
      "text/html": [
       "U:\n",
       "  16:1:88"
      ],
      "text/plain": [
       "U:\n",
       "  16:1:88"
      ]
     },
     "execution_count": 5,
     "metadata": {},
     "output_type": "execute_result"
    }
   ],
   "source": [
    "u = UnitDimension(:U, 16, 88)"
   ]
  },
  {
   "cell_type": "code",
   "execution_count": 6,
   "metadata": {
    "collapsed": false
   },
   "outputs": [
    {
     "data": {
      "text/html": [
       "L:\n",
       "  1:1:16"
      ],
      "text/plain": [
       "L:\n",
       "  1:1:16"
      ]
     },
     "execution_count": 6,
     "metadata": {},
     "output_type": "execute_result"
    }
   ],
   "source": [
    "l = CartesianDimension(:L, 16)"
   ]
  },
  {
   "cell_type": "markdown",
   "metadata": {},
   "source": [
    "### Dimension Comparisons"
   ]
  },
  {
   "cell_type": "markdown",
   "metadata": {},
   "source": [
    "Cardinal and ordinal dimensions are never equal "
   ]
  },
  {
   "cell_type": "code",
   "execution_count": 11,
   "metadata": {
    "collapsed": false
   },
   "outputs": [
    {
     "data": {
      "text/plain": [
       "false"
      ]
     },
     "execution_count": 11,
     "metadata": {},
     "output_type": "execute_result"
    }
   ],
   "source": [
    "CardinalDimension(:X, [1, 2]) == OrdinalDimension(:X, [1, 2])"
   ]
  },
  {
   "cell_type": "markdown",
   "metadata": {},
   "source": [
    "Otherwise, equality for dimensions is by state values, not by type"
   ]
  },
  {
   "cell_type": "code",
   "execution_count": 8,
   "metadata": {
    "collapsed": false
   },
   "outputs": [
    {
     "data": {
      "text/plain": [
       "true"
      ]
     },
     "execution_count": 8,
     "metadata": {},
     "output_type": "execute_result"
    }
   ],
   "source": [
    "OrdinalDimension(:X, [1, 2, 3]) == StepDimension(:X, 1:1:3)  == UnitDimension(:X, 1:3) == CartesianDimension(:X, 3)"
   ]
  },
  {
   "cell_type": "markdown",
   "metadata": {},
   "source": [
    "Comparisons are defined only for Ordinal dimensions (`AbstractOrdinalDimension`).\n",
    "The ordering of elements in a dimension are speficed by their position"
   ]
  },
  {
   "cell_type": "code",
   "execution_count": 14,
   "metadata": {
    "collapsed": false
   },
   "outputs": [
    {
     "data": {
      "text/plain": [
       "3-element BitArray{1}:\n",
       "  true\n",
       "  true\n",
       " false"
      ]
     },
     "execution_count": 14,
     "metadata": {},
     "output_type": "execute_result"
    }
   ],
   "source": [
    "o = OrdinalDimension(:X, [3, 16, -2])\n",
    "o .< -2 # here, 3 & 16 are less than -2"
   ]
  },
  {
   "cell_type": "code",
   "execution_count": 13,
   "metadata": {
    "collapsed": false
   },
   "outputs": [
    {
     "data": {
      "text/plain": [
       "3-element BitArray{1}:\n",
       " false\n",
       " false\n",
       " false"
      ]
     },
     "execution_count": 13,
     "metadata": {},
     "output_type": "execute_result"
    }
   ],
   "source": [
    "# nothing is less than 20 since 20 ∉ o\n",
    "o .< 20"
   ]
  },
  {
   "cell_type": "code",
   "execution_count": 19,
   "metadata": {
    "collapsed": false
   },
   "outputs": [
    {
     "data": {
      "text/plain": [
       "3-element BitArray{1}:\n",
       " true\n",
       " true\n",
       " true"
      ]
     },
     "execution_count": 19,
     "metadata": {},
     "output_type": "execute_result"
    }
   ],
   "source": [
    "# 3, 16, and -2 are all ≥ 20\n",
    "o .≥ 3"
   ]
  },
  {
   "cell_type": "markdown",
   "metadata": {},
   "source": [
    "## Factors"
   ]
  },
  {
   "cell_type": "markdown",
   "metadata": {},
   "source": [
    "tons of constructors"
   ]
  },
  {
   "cell_type": "code",
   "execution_count": null,
   "metadata": {
    "collapsed": true
   },
   "outputs": [],
   "source": []
  },
  {
   "cell_type": "markdown",
   "metadata": {},
   "source": [
    "accessing"
   ]
  },
  {
   "cell_type": "code",
   "execution_count": null,
   "metadata": {
    "collapsed": true
   },
   "outputs": [],
   "source": []
  },
  {
   "cell_type": "markdown",
   "metadata": {},
   "source": [
    "maps"
   ]
  },
  {
   "cell_type": "code",
   "execution_count": null,
   "metadata": {
    "collapsed": true
   },
   "outputs": [],
   "source": []
  },
  {
   "cell_type": "markdown",
   "metadata": {},
   "source": [
    "broadcasting"
   ]
  },
  {
   "cell_type": "code",
   "execution_count": null,
   "metadata": {
    "collapsed": true
   },
   "outputs": [],
   "source": []
  },
  {
   "cell_type": "markdown",
   "metadata": {},
   "source": [
    "joins"
   ]
  },
  {
   "cell_type": "code",
   "execution_count": null,
   "metadata": {
    "collapsed": true
   },
   "outputs": [],
   "source": []
  },
  {
   "cell_type": "markdown",
   "metadata": {},
   "source": [
    "to dataframe"
   ]
  },
  {
   "cell_type": "code",
   "execution_count": null,
   "metadata": {
    "collapsed": true
   },
   "outputs": [],
   "source": []
  },
  {
   "cell_type": "markdown",
   "metadata": {},
   "source": [
    "## Factors\n",
    "\n",
    "BayesNets.jl uses factors (potentials) to represent probabilities:\n",
    "\n",
    "ft = Factor(bn, :E)\n",
    "\n",
    "DataFrame(ft)\n",
    "\n",
    "A dimension's name gets its pattern (also accessable through `pattern`):\n",
    "\n",
    "ft[:E]\n",
    "\n",
    "An `Assignment` can also select from the factor:\n",
    "\n",
    "DataFrame(ft[Assignment(:E => 2)])\n",
    "\n",
    "ft[Assignment(:E => 2, :B => 1)] = [20, 16]\n",
    "DataFrame(ft)\n",
    "\n",
    "They can also be filled with random values:\n",
    "m\n",
    "rand!(ft)\n",
    "DataFrame(ft)\n",
    "\n",
    "Operations can be broadcast along dimensions:\n",
    "\n",
    "DataFrame(broadcast(*, ft, :B, [100, 0.01]))\n",
    "\n",
    "Dimensions can be reduced.\n",
    "Convience functions are provded for the following (As well as for their excited cousins, e.g. sum!):\n",
    "* `sum`  \n",
    "* `prod`  \n",
    "* `maximum`  \n",
    "* `minimum`  \n",
    "\n",
    "\n",
    "\n",
    "DataFrame(sum(ft, :S))\n",
    "\n",
    "Two factors can be joined through `join` or by multiplying (adding, etc.) them:\n",
    "\n",
    "DataFrame(Factor(bn, :C) * Factor(bn, :D)):e"
   ]
  }
 ],
 "metadata": {
  "kernelspec": {
   "display_name": "Julia 0.5.0",
   "language": "julia",
   "name": "julia-0.5"
  },
  "language_info": {
   "file_extension": ".jl",
   "mimetype": "application/julia",
   "name": "julia",
   "version": "0.5.0"
  }
 },
 "nbformat": 4,
 "nbformat_minor": 2
}
