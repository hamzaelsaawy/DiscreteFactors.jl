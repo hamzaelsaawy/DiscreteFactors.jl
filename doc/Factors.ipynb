{
 "cells": [
  {
   "cell_type": "markdown",
   "metadata": {},
   "source": [
    "# Factors.jl\n",
    "A package for factors/potentials with parametric supports"
   ]
  },
  {
   "cell_type": "code",
   "execution_count": 1,
   "metadata": {
    "collapsed": false
   },
   "outputs": [],
   "source": [
    "using DataFrames\n",
    "using Factors"
   ]
  },
  {
   "cell_type": "markdown",
   "metadata": {
    "collapsed": false
   },
   "source": [
    "## Dimensions"
   ]
  },
  {
   "cell_type": "markdown",
   "metadata": {},
   "source": [
    "The core unit are dimensions, which consist of names (`Symbol`) and a countably-finite supports (`<: AbstractVector`):"
   ]
  },
  {
   "cell_type": "code",
   "execution_count": 2,
   "metadata": {
    "collapsed": false
   },
   "outputs": [
    {
     "data": {
      "text/plain": [
       "7-element Array{Any,1}:\n",
       " X:  String[\"bob\",\"waldo\",\"superman\"] (3)\n",
       " X:  ['a','α'] (2)                       \n",
       " X:  'a':2:'y' (13)                      \n",
       " X:  10:3:40 (11)                        \n",
       " X:  2:15 (14)                           \n",
       " X:  1:4                                 \n",
       " X:  1:16                                "
      ]
     },
     "execution_count": 2,
     "metadata": {},
     "output_type": "execute_result"
    }
   ],
   "source": [
    "map(s -> Dimension(:X, s), [[\"bob\", \"waldo\", \"superman\"], ('a', 'α'), 'a':2:'z', 10:3:40, 2:15, 1:4, 16])"
   ]
  },
  {
   "cell_type": "markdown",
   "metadata": {},
   "source": [
    "### Indexing and iterating"
   ]
  },
  {
   "cell_type": "code",
   "execution_count": 3,
   "metadata": {
    "collapsed": false
   },
   "outputs": [
    {
     "name": "stdout",
     "output_type": "stream",
     "text": [
      "α β γ δ ε ζ η θ ι κ λ μ ν ξ ο π ρ ς σ τ υ φ χ ψ ω "
     ]
    }
   ],
   "source": [
    "x = Dimension(:X, 'α':'ω')\n",
    "\n",
    "for v in x\n",
    "    print(v, \" \")\n",
    "end"
   ]
  },
  {
   "cell_type": "code",
   "execution_count": 4,
   "metadata": {
    "collapsed": false
   },
   "outputs": [
    {
     "data": {
      "text/plain": [
       "'β'"
      ]
     },
     "execution_count": 4,
     "metadata": {},
     "output_type": "execute_result"
    }
   ],
   "source": [
    "x[2]"
   ]
  },
  {
   "cell_type": "code",
   "execution_count": 5,
   "metadata": {
    "collapsed": false
   },
   "outputs": [
    {
     "data": {
      "text/plain": [
       "2"
      ]
     },
     "execution_count": 5,
     "metadata": {},
     "output_type": "execute_result"
    }
   ],
   "source": [
    "indexin('β', x)"
   ]
  },
  {
   "cell_type": "code",
   "execution_count": 6,
   "metadata": {
    "collapsed": false
   },
   "outputs": [
    {
     "data": {
      "text/plain": [
       "4-element Array{Int64,1}:\n",
       "  1\n",
       " 24\n",
       "  6\n",
       "  4"
      ]
     },
     "execution_count": 6,
     "metadata": {},
     "output_type": "execute_result"
    }
   ],
   "source": [
    "(I, d) = update(x, ['α', 'ψ', 'ζ', 'δ'])\n",
    "I"
   ]
  },
  {
   "cell_type": "code",
   "execution_count": 7,
   "metadata": {
    "collapsed": false
   },
   "outputs": [
    {
     "data": {
      "text/plain": [
       "X:  ['α','ψ','ζ','δ'] (4)"
      ]
     },
     "execution_count": 7,
     "metadata": {},
     "output_type": "execute_result"
    }
   ],
   "source": [
    "d"
   ]
  },
  {
   "cell_type": "markdown",
   "metadata": {},
   "source": [
    "### Dimension Comparisons"
   ]
  },
  {
   "cell_type": "markdown",
   "metadata": {},
   "source": [
    "Equality for dimensions is by state values, not by type"
   ]
  },
  {
   "cell_type": "code",
   "execution_count": 8,
   "metadata": {
    "collapsed": false
   },
   "outputs": [
    {
     "data": {
      "text/plain": [
       "true"
      ]
     },
     "execution_count": 8,
     "metadata": {},
     "output_type": "execute_result"
    }
   ],
   "source": [
    "Dimension(:X, [1, 2, 3]) == Dimension(:X, 1:1:3)  == Dimension(:X, 1:3) == Dimension(:X, 3)"
   ]
  },
  {
   "cell_type": "markdown",
   "metadata": {},
   "source": [
    "Comparisons use the position of elements in a dimension"
   ]
  },
  {
   "cell_type": "code",
   "execution_count": 9,
   "metadata": {
    "collapsed": false
   },
   "outputs": [
    {
     "data": {
      "text/plain": [
       "3-element BitArray{1}:\n",
       "  true\n",
       "  true\n",
       " false"
      ]
     },
     "execution_count": 9,
     "metadata": {},
     "output_type": "execute_result"
    }
   ],
   "source": [
    "o = Dimension(:X, [3, 16, -2])\n",
    "o .< -2 # here, 3 & 16 are less than -2"
   ]
  },
  {
   "cell_type": "code",
   "execution_count": 10,
   "metadata": {
    "collapsed": false
   },
   "outputs": [
    {
     "data": {
      "text/plain": [
       "3-element BitArray{1}:\n",
       " true\n",
       " true\n",
       " true"
      ]
     },
     "execution_count": 10,
     "metadata": {},
     "output_type": "execute_result"
    }
   ],
   "source": [
    "# 3, 16, and -2 are all ≥ 3\n",
    "o .≥ 3"
   ]
  },
  {
   "cell_type": "markdown",
   "metadata": {},
   "source": [
    "## Factors"
   ]
  },
  {
   "cell_type": "markdown",
   "metadata": {},
   "source": [
    "A factor maps from the support of each of its dimensions to a `Float64`.\n",
    "\n",
    "Potentials are read in column-major order: the first dimension corresponds to the first axis (column), the second dimension corresponds to the second axis (rows) etc ..."
   ]
  },
  {
   "cell_type": "code",
   "execution_count": 11,
   "metadata": {
    "collapsed": false
   },
   "outputs": [
    {
     "data": {
      "text/html": [
       "<table class=\"data-frame\"><thead><tr><th></th><th>X</th><th>Y</th><th>potential</th></tr></thead><tbody><tr><th>1</th><td>1</td><td>1</td><td>1.0</td></tr><tr><th>2</th><td>2</td><td>1</td><td>2.0</td></tr><tr><th>3</th><td>3</td><td>1</td><td>3.0</td></tr><tr><th>4</th><td>1</td><td>2</td><td>4.0</td></tr><tr><th>5</th><td>2</td><td>2</td><td>5.0</td></tr><tr><th>6</th><td>3</td><td>2</td><td>6.0</td></tr></tbody></table>"
      ],
      "text/plain": [
       "6×3 DataFrames.DataFrame\n",
       "│ Row │ X │ Y │ potential │\n",
       "├─────┼───┼───┼───────────┤\n",
       "│ 1   │ 1 │ 1 │ 1.0       │\n",
       "│ 2   │ 2 │ 1 │ 2.0       │\n",
       "│ 3   │ 3 │ 1 │ 3.0       │\n",
       "│ 4   │ 1 │ 2 │ 4.0       │\n",
       "│ 5   │ 2 │ 2 │ 5.0       │\n",
       "│ 6   │ 3 │ 2 │ 6.0       │"
      ]
     },
     "execution_count": 11,
     "metadata": {},
     "output_type": "execute_result"
    }
   ],
   "source": [
    "ft = Factor([:X, :Y], [1 4; 2 5; 3 6])\n",
    "DataFrame(ft)"
   ]
  },
  {
   "cell_type": "markdown",
   "metadata": {},
   "source": [
    "There are multiple convience constructors:"
   ]
  },
  {
   "cell_type": "code",
   "execution_count": 12,
   "metadata": {
    "collapsed": false
   },
   "outputs": [
    {
     "data": {
      "text/plain": [
       "1 instantiation: 2016.0"
      ]
     },
     "execution_count": 12,
     "metadata": {},
     "output_type": "execute_result"
    }
   ],
   "source": [
    "c = Dimension(:C, 3)\n",
    "\n",
    "s = Dimension(:S, 10:2:18)\n",
    "\n",
    "Factor([c, s], rand(3, 5))\n",
    "Factor(c, [2, 0, 16])\n",
    "Factor([1 4; 2 5; 3 6], :X => 3:5, :Y => ['a', 'b'])\n",
    "\n",
    "# creates CartesianDimensions\n",
    "Factor([:X, :Y], rand(20, 16)) \n",
    "Factor(:X, [31, 33, 58])\n",
    "\n",
    "# zero potentials\n",
    "Factor(c)\n",
    "Factor([c, s])\n",
    "Factor(Dict(:X=>14, :Y=>['Γ', 'Δ'], :Z =>'a':2:'z'))\n",
    "Factor(:A=>10, :B=>3:20)\n",
    "\n",
    "# zero dimensional factor\n",
    "Factor(2016)"
   ]
  },
  {
   "cell_type": "markdown",
   "metadata": {},
   "source": [
    "### Patterns"
   ]
  },
  {
   "cell_type": "markdown",
   "metadata": {},
   "source": [
    "`pattern` returns the sequence of a dimension in a factor"
   ]
  },
  {
   "cell_type": "code",
   "execution_count": 13,
   "metadata": {
    "collapsed": false
   },
   "outputs": [
    {
     "data": {
      "text/plain": [
       "12×2 Array{Int64,2}:\n",
       " 1  1\n",
       " 2  1\n",
       " 3  1\n",
       " 1  2\n",
       " 2  2\n",
       " 3  2\n",
       " 1  3\n",
       " 2  3\n",
       " 3  3\n",
       " 1  4\n",
       " 2  4\n",
       " 3  4"
      ]
     },
     "execution_count": 13,
     "metadata": {},
     "output_type": "execute_result"
    }
   ],
   "source": [
    "c = Dimension(:C, 3)\n",
    "s = Dimension(:S, 'a':2:'h')\n",
    "ft = Factor([c, s])\n",
    "\n",
    "pattern(ft)"
   ]
  },
  {
   "cell_type": "markdown",
   "metadata": {},
   "source": [
    "Also done via accessing that dimension"
   ]
  },
  {
   "cell_type": "raw",
   "metadata": {},
   "source": [
    "ft[:S]"
   ]
  },
  {
   "cell_type": "code",
   "execution_count": 14,
   "metadata": {
    "collapsed": false
   },
   "outputs": [
    {
     "data": {
      "text/plain": [
       "12×2 Array{Any,2}:\n",
       " 1  'a'\n",
       " 2  'a'\n",
       " 3  'a'\n",
       " 1  'c'\n",
       " 2  'c'\n",
       " 3  'c'\n",
       " 1  'e'\n",
       " 2  'e'\n",
       " 3  'e'\n",
       " 1  'g'\n",
       " 2  'g'\n",
       " 3  'g'"
      ]
     },
     "execution_count": 14,
     "metadata": {},
     "output_type": "execute_result"
    }
   ],
   "source": [
    "pattern_states(ft)"
   ]
  },
  {
   "cell_type": "markdown",
   "metadata": {},
   "source": [
    "A Factors scope returns the names of the dimension. As does `names(ϕ)`"
   ]
  },
  {
   "cell_type": "code",
   "execution_count": 15,
   "metadata": {
    "collapsed": false
   },
   "outputs": [
    {
     "data": {
      "text/plain": [
       "2-element Array{Factors.Dimension,1}:\n",
       " C:  1:3          \n",
       " S:  'a':2:'g' (4)"
      ]
     },
     "execution_count": 15,
     "metadata": {},
     "output_type": "execute_result"
    }
   ],
   "source": [
    "scope(ft)"
   ]
  },
  {
   "cell_type": "markdown",
   "metadata": {},
   "source": [
    "### Accessing"
   ]
  },
  {
   "cell_type": "markdown",
   "metadata": {},
   "source": [
    "Iterating over a factor is done by dimensions"
   ]
  },
  {
   "cell_type": "raw",
   "metadata": {},
   "source": [
    "for d in ft:\n",
    "    print(d)\n",
    "end"
   ]
  },
  {
   "cell_type": "markdown",
   "metadata": {},
   "source": [
    "An `Assignment` can also select from the factor:"
   ]
  },
  {
   "cell_type": "raw",
   "metadata": {},
   "source": [
    "DataFrame(ft[Assignment(:E => 2)])"
   ]
  },
  {
   "cell_type": "raw",
   "metadata": {},
   "source": [
    "ft[Assignment(:E => 2, :B => 1)] = [20, 16]\n",
    "DataFrame(ft)"
   ]
  },
  {
   "cell_type": "code",
   "execution_count": null,
   "metadata": {
    "collapsed": true
   },
   "outputs": [],
   "source": []
  },
  {
   "cell_type": "markdown",
   "metadata": {},
   "source": [
    "### Mapping"
   ]
  },
  {
   "cell_type": "code",
   "execution_count": null,
   "metadata": {
    "collapsed": true
   },
   "outputs": [],
   "source": []
  },
  {
   "cell_type": "markdown",
   "metadata": {},
   "source": [
    "### Broadcasting"
   ]
  },
  {
   "cell_type": "markdown",
   "metadata": {},
   "source": [
    "Operations can be broadcast along dimensions:\n",
    "\n",
    "DataFrame(broadcast(*, ft, :B, [100, 0.01]))"
   ]
  },
  {
   "cell_type": "markdown",
   "metadata": {},
   "source": [
    "Dimensions can be reduced.\n",
    "Convience functions are provded for the following (As well as for their excited cousins, e.g. sum!):\n",
    "* `sum`  \n",
    "* `prod`  \n",
    "* `maximum`  \n",
    "* `minimum`  "
   ]
  },
  {
   "cell_type": "raw",
   "metadata": {},
   "source": [
    "DataFrame(sum(ft, :S))"
   ]
  },
  {
   "cell_type": "code",
   "execution_count": null,
   "metadata": {
    "collapsed": true
   },
   "outputs": [],
   "source": []
  },
  {
   "cell_type": "markdown",
   "metadata": {},
   "source": [
    "### Joining"
   ]
  },
  {
   "cell_type": "markdown",
   "metadata": {},
   "source": [
    "Factors can be joined through `join` or by multiplying (adding, etc.) them:"
   ]
  },
  {
   "cell_type": "raw",
   "metadata": {},
   "source": [
    "DataFrame(Factor(bn, :C) * Factor(bn, :D))"
   ]
  },
  {
   "cell_type": "code",
   "execution_count": null,
   "metadata": {
    "collapsed": true
   },
   "outputs": [],
   "source": []
  }
 ],
 "metadata": {
  "kernelspec": {
   "display_name": "Julia 0.5.0",
   "language": "julia",
   "name": "julia-0.5"
  },
  "language_info": {
   "file_extension": ".jl",
   "mimetype": "application/julia",
   "name": "julia",
   "version": "0.5.0"
  }
 },
 "nbformat": 4,
 "nbformat_minor": 2
}
